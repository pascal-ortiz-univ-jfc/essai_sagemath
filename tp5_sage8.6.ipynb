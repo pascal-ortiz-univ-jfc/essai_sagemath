{
 "cells": [
  {
   "cell_type": "markdown",
   "metadata": {},
   "source": [
    "$\\renewcommand{\\r}{\\mathbb{ R}}$ $\\newcommand{\\N}{\\mathbb{N}}$ $\\newcommand{\\R}{\\mathbb{ R}}$ $\\newcommand{\\Q}{\\mathbb{ Q}}$ $\\newcommand{\\R}{\\mathbb{ R}}$ $\\newcommand{\\C}{\\mathbb{C}}$ $\\newcommand{\\Z}{\\mathbb{Z}}$ $\\newcommand{\\ens}[1]{\\left\\{ {#1} \\right\\}}$ $\\newcommand{\\pv}{\\;;\\;}$ $\\newcommand{\\sev}{sous-espace vectoriel}$ $\\newcommand{\\evc}{espace vectoriel canonique}$ $\\newcommand{\\vect}{\\text{vect}}$$\\newcommand{\\calf}{\\mathscr{F}}$ $\\newcommand{\\calc}{\\mathscr{C}}$\n",
    "\n"
   ]
  },
  {
   "cell_type": "markdown",
   "metadata": {},
   "source": [
    "# Notion de vecteur\n",
    "\n",
    "On peut définir un vecteur avec le constructeur `vector` appliqué une liste :\n",
    "\n"
   ]
  },
  {
   "cell_type": "code",
   "execution_count": null,
   "metadata": {},
   "outputs": [],
   "source": [
    "v=vector([-3, 5, 7])\n",
    "print(v)"
   ]
  },
  {
   "cell_type": "markdown",
   "metadata": {},
   "source": [
    "On peut effectuer des combinaisons linéaires de vecteurs de même taille :\n",
    "\n"
   ]
  },
  {
   "cell_type": "code",
   "execution_count": null,
   "metadata": {},
   "outputs": [],
   "source": [
    "v=vector([-3, 5, 7])\n",
    "w=vector([4, 6, -2])\n",
    "\n",
    "V= (2*v - w)/2\n",
    "print V"
   ]
  },
  {
   "cell_type": "markdown",
   "metadata": {},
   "source": [
    "Un vecteur peut avoir des composantes qui sont des expressions formelles :\n",
    "\n"
   ]
  },
  {
   "cell_type": "code",
   "execution_count": null,
   "metadata": {},
   "outputs": [],
   "source": [
    "var(\"a b\")\n",
    "v=vector([a-b, a+b])\n",
    "print(v)"
   ]
  },
  {
   "cell_type": "markdown",
   "metadata": {},
   "source": [
    "et on peut effectuer des opérations formelles sur ces vecteurs :\n",
    "\n"
   ]
  },
  {
   "cell_type": "code",
   "execution_count": null,
   "metadata": {},
   "outputs": [],
   "source": [
    "var(\"a b\")\n",
    "v=vector([a-b, a+b])\n",
    "v1=v.subs(a=1, b=0)\n",
    "v2=v.subs(a=0, b=1)\n",
    "print v1\n",
    "print v2"
   ]
  },
  {
   "cell_type": "markdown",
   "metadata": {},
   "source": [
    "On peut comparer des vecteurs avec la syntaxe attendue :\n",
    "\n"
   ]
  },
  {
   "cell_type": "code",
   "execution_count": null,
   "metadata": {},
   "outputs": [],
   "source": [
    "var(\"a b\")\n",
    "v=vector([a-b, a+b])\n",
    "v1=v.subs(a=1, b=0)\n",
    "v2=v.subs(a=0, b=1)\n",
    "\n",
    "print a*v1+b*v2==v"
   ]
  },
  {
   "cell_type": "markdown",
   "metadata": {},
   "source": [
    "On accède aux composantes d'un vecteur comme on accéderait aux éléments d'une liste, avec un indice commençant à 0 :\n",
    "\n"
   ]
  },
  {
   "cell_type": "code",
   "execution_count": null,
   "metadata": {},
   "outputs": [],
   "source": [
    "v=vector([-3, 5, 7, 9, 2, 0, 4])\n",
    "print v[2]\n",
    "print v[5]"
   ]
  },
  {
   "cell_type": "markdown",
   "metadata": {},
   "source": [
    "On peut transformer un vecteur en liste avec le constructeur `list` :\n",
    "\n"
   ]
  },
  {
   "cell_type": "code",
   "execution_count": null,
   "metadata": {},
   "outputs": [],
   "source": [
    "v=vector([-3, 5, 7, 9, 2, 0, 4])\n",
    "print list(v)"
   ]
  },
  {
   "cell_type": "markdown",
   "metadata": {},
   "source": [
    "# Vecteur nul\n",
    "\n"
   ]
  },
  {
   "cell_type": "code",
   "execution_count": null,
   "metadata": {},
   "outputs": [],
   "source": [
    "z5=zero_vector(5)\n",
    "z5"
   ]
  },
  {
   "cell_type": "markdown",
   "metadata": {},
   "source": [
    "Le vecteur nul de taille *n* peut être construit en construisant d'abord la liste formée de $n$ zéros :\n",
    "\n"
   ]
  },
  {
   "cell_type": "code",
   "execution_count": null,
   "metadata": {},
   "outputs": [],
   "source": [
    "n=10\n",
    "L=[0]*n\n",
    "print L\n",
    "v=vector(L)\n",
    "show(v)"
   ]
  },
  {
   "cell_type": "markdown",
   "metadata": {},
   "source": [
    "# Nombre d'éléments d'un vecteur\n",
    "\n",
    "Le nombre de coordonnées d'un vecteur est obtenu avec la fonction **len**\n",
    "\n"
   ]
  },
  {
   "cell_type": "code",
   "execution_count": null,
   "metadata": {},
   "outputs": [],
   "source": [
    "u=vector([81, -12, 31])\n",
    "print len(u)"
   ]
  },
  {
   "cell_type": "code",
   "execution_count": null,
   "metadata": {},
   "outputs": [],
   "source": [
    "# alternative\n",
    "u=vector([81, -12, 31])\n",
    "print u.degree()"
   ]
  },
  {
   "cell_type": "markdown",
   "metadata": {},
   "source": [
    "# Opérations sur les vecteurs\n",
    "\n",
    "On peut effectuer de façon très naturelle les opérations usuelles sur des vecteurs\n",
    "\n"
   ]
  },
  {
   "cell_type": "code",
   "execution_count": null,
   "metadata": {},
   "outputs": [],
   "source": [
    "u=vector([81, 31, 9])\n",
    "v=vector([46, 32, 12])\n",
    "print -u             # opposé\n",
    "print u+v            # la somme \n",
    "print 10*u           # le produit par un scalaire  \n",
    "print u*10           # noter que la place du scalaire est sans importance\n",
    "print u*v            # Le produit scalaire de deux vecteurs\n",
    "print abs(u)         # La norme d'un vecteur\n",
    "print 5*u-3*v        # des combinaisons linéaires"
   ]
  },
  {
   "cell_type": "markdown",
   "metadata": {},
   "source": [
    "Dans un contexte vectoriel, le nombre entier 0 s'assimile au vecteur nul\n",
    "\n"
   ]
  },
  {
   "cell_type": "code",
   "execution_count": null,
   "metadata": {},
   "outputs": [],
   "source": [
    "u=vector([81, 31, 9])\n",
    "print u+0"
   ]
  },
  {
   "cell_type": "markdown",
   "metadata": {},
   "source": [
    "# Somme de vecteurs avec `sum`\n",
    "\n",
    "On peut faire la somme de vecteurs de même dimension et placés dans une liste avec la fonction **sum** :\n",
    "\n"
   ]
  },
  {
   "cell_type": "code",
   "execution_count": null,
   "metadata": {},
   "outputs": [],
   "source": [
    "L=[vector([9,12,81]),vector([31,82,46]), vector([65,32,81])]\n",
    "sum(L)"
   ]
  },
  {
   "cell_type": "markdown",
   "metadata": {},
   "source": [
    "# Égalité entre vecteurs\n",
    "\n",
    "Elle se fait avec l'opérateur d'égalité habituel :\n",
    "\n"
   ]
  },
  {
   "cell_type": "code",
   "execution_count": null,
   "metadata": {},
   "outputs": [],
   "source": [
    "u=vector([4,5,6])\n",
    "u+u==2*u"
   ]
  },
  {
   "cell_type": "markdown",
   "metadata": {},
   "source": [
    "Il existe un raccourci pour comparer un vecteur au vecteur nul : on compare le vecteur à l'entier 0 :\n",
    "\n"
   ]
  },
  {
   "cell_type": "code",
   "execution_count": null,
   "metadata": {},
   "outputs": [],
   "source": [
    "print vector([0,0,0])==0"
   ]
  },
  {
   "cell_type": "markdown",
   "metadata": {},
   "source": [
    "# Construction de vecteurs\n",
    "\n",
    "Un vecteur est le plus souvent défini à l'aide d'une liste, celle de ses éléments. Voici différents exemples :\n",
    "\n"
   ]
  },
  {
   "cell_type": "code",
   "execution_count": null,
   "metadata": {},
   "outputs": [],
   "source": [
    "u=vector([81, 31, 9])\n",
    "u"
   ]
  },
  {
   "cell_type": "code",
   "execution_count": null,
   "metadata": {},
   "outputs": [],
   "source": [
    "L=range(12, 42)\n",
    "v=vector(L)\n",
    "v"
   ]
  },
  {
   "cell_type": "code",
   "execution_count": null,
   "metadata": {},
   "outputs": [],
   "source": [
    "L=[4*x-1, 2*x+3]\n",
    "L"
   ]
  },
  {
   "cell_type": "markdown",
   "metadata": {},
   "source": [
    "Comme on vient de le voir, les éléments peuvent être de types variés, y compris des expressions symboliques.\n",
    "\n"
   ]
  },
  {
   "cell_type": "markdown",
   "metadata": {},
   "source": [
    "# Affichage de vecteurs\n",
    "\n",
    "On peut utiliser une instruction `print` mais la fonction **show** fournit un affichage beaucoup plus lisible, en particulier bien séparé de son contexte :\n",
    "\n"
   ]
  },
  {
   "cell_type": "code",
   "execution_count": null,
   "metadata": {},
   "outputs": [],
   "source": [
    "u=vector([81, 31, 9])\n",
    "v=vector([12, 32, 46])\n",
    "print u\n",
    "print v\n",
    "print u\n",
    "show(u)\n",
    "show(v)"
   ]
  },
  {
   "cell_type": "markdown",
   "metadata": {},
   "source": [
    "# Listes et vecteurs\n",
    "\n",
    "Ne pas confondre liste de nombres et vecteur. Un vecteur est défini par une liste de nombres mais les deux types ne supportent pas les mêmes opérations. Par exemple, les additions de listes et de vecteurs sont différentes :\n",
    "\n"
   ]
  },
  {
   "cell_type": "code",
   "execution_count": null,
   "metadata": {},
   "outputs": [],
   "source": [
    "L=[1,2,3]\n",
    "M=[4,5,6]\n",
    "u=vector(L)\n",
    "v=vector(M)\n",
    "print L+M\n",
    "print u+v"
   ]
  },
  {
   "cell_type": "markdown",
   "metadata": {},
   "source": [
    "A partir d'un vecteur, on peut obtenir la liste de ses coordonnées avec le constructeur **list**\n",
    "\n"
   ]
  },
  {
   "cell_type": "code",
   "execution_count": null,
   "metadata": {},
   "outputs": [],
   "source": [
    "u=vector([81, -12, 31])\n",
    "print list(u)"
   ]
  },
  {
   "cell_type": "markdown",
   "metadata": {},
   "source": [
    "Savoir manipuler des listes permet de construire des vecteurs. Par exemple, soit à construire le vecteur dont la première coordonnée est 1, les deux suivantes sont 22, les trois suivantes sont 333.\n",
    "\n"
   ]
  },
  {
   "cell_type": "code",
   "execution_count": null,
   "metadata": {},
   "outputs": [],
   "source": [
    "L=[1]*1+[22]*2+3*[333]\n",
    "print L\n",
    "show(vector(L))"
   ]
  },
  {
   "cell_type": "markdown",
   "metadata": {},
   "source": [
    "# Vecteurs aléatoires\n",
    "\n",
    "On peut générer un vecteur aléatoire à coefficients dans un anneau K ( $K=\\mathbb Z$ ou $K=\\mathbb Q$) et de taille donnée $n$ :\n",
    "\n"
   ]
  },
  {
   "cell_type": "code",
   "execution_count": null,
   "metadata": {},
   "outputs": [],
   "source": [
    "v=random_vector(3)\n",
    "show(v)"
   ]
  },
  {
   "cell_type": "code",
   "execution_count": null,
   "metadata": {},
   "outputs": [],
   "source": [
    "# Génération de 5 vecteurs aléatoires\n",
    "for i in range(5):\n",
    "    print random_vector(3)"
   ]
  },
  {
   "cell_type": "markdown",
   "metadata": {},
   "source": [
    "En pratique, on obtient un vecteur aléatoire ayant, le plus souvent, de petits coefficients. On peut contraindre les coefficients à se situer entre deux bornes données en paramètres nommés (x et y) :\n",
    "\n"
   ]
  },
  {
   "cell_type": "code",
   "execution_count": null,
   "metadata": {},
   "outputs": [],
   "source": [
    "v=random_vector(3, x=100, y=200) # coeffs entre x et y-1\n",
    "show(v)\n",
    "v=random_vector(3, x=10) # coeffs entre 0 et x-1\n",
    "show(v)"
   ]
  },
  {
   "cell_type": "markdown",
   "metadata": {},
   "source": [
    "Pour générer un vecteur aléatoire de coefficients 0 ou 1, on procède donc ainsi\n",
    "\n"
   ]
  },
  {
   "cell_type": "code",
   "execution_count": null,
   "metadata": {},
   "outputs": [],
   "source": [
    "v=random_vector(20, x=2)\n",
    "show(v)"
   ]
  },
  {
   "cell_type": "markdown",
   "metadata": {},
   "source": [
    "# Vecteurs en lecture, en écriture\n",
    "\n",
    "Pour accéder en lecture aux coordonnées individuelles d'un vecteur, on utilise l'indexation de façon analogue à l'accès des termes d'une liste. Les indices commencent à zéro :\n",
    "\n"
   ]
  },
  {
   "cell_type": "code",
   "execution_count": null,
   "metadata": {},
   "outputs": [],
   "source": [
    "u=vector([81, -12, 31, 9, 46, 65])\n",
    "print u[4], u[0]"
   ]
  },
  {
   "cell_type": "markdown",
   "metadata": {},
   "source": [
    "L'accès se fait aussi en écriture, autrement dit l'indexation permet aussi de modifier des coordonnées d'un vecteur :\n",
    "\n"
   ]
  },
  {
   "cell_type": "code",
   "execution_count": null,
   "metadata": {},
   "outputs": [],
   "source": [
    "u=vector([81, -12, 31, 9, 46, 65])\n",
    "show(u)\n",
    "u[4]=2020\n",
    "show(u)"
   ]
  },
  {
   "cell_type": "markdown",
   "metadata": {},
   "source": [
    "# Vecteur vu comme un itérable\n",
    "\n",
    "Un vecteur est un itérable. On peut donc parcourir les coefficients d'un vecteurs avec une boucle for et utiliser toutes les fonctions utilisables avec un itérable.\n",
    "\n",
    "### Itérer\n",
    "\n"
   ]
  },
  {
   "cell_type": "code",
   "execution_count": null,
   "metadata": {},
   "outputs": [],
   "source": [
    "u=vector([81, -12, 31])\n",
    "for x in u:\n",
    "    print 10*x"
   ]
  },
  {
   "cell_type": "markdown",
   "metadata": {},
   "source": [
    "### Sommer, prendre le maximum\n",
    "\n"
   ]
  },
  {
   "cell_type": "code",
   "execution_count": null,
   "metadata": {},
   "outputs": [],
   "source": [
    "u=vector([81, -12, 31])\n",
    "show(u)\n",
    "print sum(u)\n",
    "print max(u)"
   ]
  },
  {
   "cell_type": "markdown",
   "metadata": {},
   "source": [
    "## EXERCICES\n",
    "\n"
   ]
  },
  {
   "cell_type": "markdown",
   "metadata": {},
   "source": [
    "### Exercice n° 1 : Générer les vecteurs de la base canonique\n",
    "\n"
   ]
  },
  {
   "cell_type": "markdown",
   "metadata": {},
   "source": [
    "Ecrire une fonction qui prend $n$ en paramètre et qui génère la liste des vecteurs de la base canonique de $R^n$. Par exemple, si $n=2$, la fonction doit générer la liste $(c_1,c_2)$ des deux vecteurs de la base canonique de $R^2$, de coordonnées $(1,0)$ et $(0,1)$.\n",
    "\n",
    "On pourra utiliser les fonctionalités suivantes du langage Python\n",
    "\n"
   ]
  },
  {
   "cell_type": "code",
   "execution_count": null,
   "metadata": {},
   "outputs": [],
   "source": [
    "# somme de deux listes\n",
    "\n",
    "L = [4, 6, 8]\n",
    "M =  [40, 60, 80, 81]\n",
    "\n",
    "print(L+M)\n",
    "\n",
    "print(10*L)\n"
   ]
  },
  {
   "cell_type": "code",
   "execution_count": null,
   "metadata": {},
   "outputs": [],
   "source": [
    "# Votre code CI-DESSOUS\n"
   ]
  },
  {
   "cell_type": "markdown",
   "metadata": {},
   "source": [
    "### Exercice n° 2 : Implémenter la norme d'un vecteur\n",
    "\n"
   ]
  },
  {
   "cell_type": "markdown",
   "metadata": {},
   "source": [
    "Implémenter une fonction qui calcule la norme euclidienne d'un vecteur $||(x_1, \\dots, x_n)||=\\sqrt{x_1^2+\\dots+x_n^2}$\n",
    "\n"
   ]
  },
  {
   "cell_type": "code",
   "execution_count": null,
   "metadata": {},
   "outputs": [],
   "source": [
    "# Votre code CI-DESSOUS\n"
   ]
  },
  {
   "cell_type": "markdown",
   "metadata": {},
   "source": [
    "# Notion de matrice\n",
    "\n",
    "Une matrice est fondamentalement définie comme une liste de listes de nombres. Par exemple, voici une matrice ayant 2 lignes et 3 colonnes\n",
    "\n"
   ]
  },
  {
   "cell_type": "code",
   "execution_count": null,
   "metadata": {},
   "outputs": [],
   "source": [
    "A = matrix( [[31, 82, 12],[ 9, 32, 46]])"
   ]
  },
  {
   "cell_type": "markdown",
   "metadata": {},
   "source": [
    "Comme l'exemple ci-dessus le montre, de façon assez naturelle, une matrice 2x3 est générée via une liste de 2 listes chacune de 3 nombres. Si les listes n'ont pas toutes la même longueur, un message d'erreur est envoyé.\n",
    "\n",
    "Ainsi, pour créer une matrice, on appelle le constructeur matrix qui est en fait le constructeur de la classe Matrix.\n",
    "\n",
    "On notera que les différentes listes constituent les LIGNES de la matrice construites.\n",
    "\n"
   ]
  },
  {
   "cell_type": "markdown",
   "metadata": {},
   "source": [
    "# Dimensions d'une matrice\n",
    "\n",
    "Une matrice $A$ a des méthodes **nrows** et **ncols** qui renvoient le nombre de lignes et de colonnes de $A$. Noter que ce qui pourrait être la longueur $\\verb|len(A)|$ n'est pas défini.\n",
    "\n"
   ]
  },
  {
   "cell_type": "code",
   "execution_count": null,
   "metadata": {},
   "outputs": [],
   "source": [
    "A=matrix([[31, 82, 12],[ 9, 32, 46]])\n",
    "show(A)\n",
    "print A.ncols()\n",
    "print A.nrows()"
   ]
  },
  {
   "cell_type": "code",
   "execution_count": null,
   "metadata": {},
   "outputs": [],
   "source": [
    "A=matrix([[31, 82, 12],[ 9, 32, 46]])\n",
    "len(A)"
   ]
  },
  {
   "cell_type": "markdown",
   "metadata": {},
   "source": [
    "Dans des fonctions, et quand c'est possible, on essayera d'utiliser les notations suivantes : $n$ est le nombre de lignes et $p$ le nombre de colonnes.\n",
    "\n"
   ]
  },
  {
   "cell_type": "markdown",
   "metadata": {},
   "source": [
    "# Accès aux éléments d'une matrice\n",
    "\n",
    "On accède à l'élément à la ligne $i$ et à la colonne $j$ d'une matrice en indexant la matrice par $i$ et $j$ :\n",
    "\n"
   ]
  },
  {
   "cell_type": "code",
   "execution_count": null,
   "metadata": {},
   "outputs": [],
   "source": [
    "A = matrix( [[31, 82, 12],[ 9, 32, 46]])\n",
    "print A[0,1]\n",
    "A[1,1]=42\n",
    "show(B)"
   ]
  },
  {
   "cell_type": "markdown",
   "metadata": {},
   "source": [
    "Bien noter qu'entre les crochets, on écrit les deux indices séparés par une virgule.\n",
    "\n",
    "Il est possible en utilisant un couple d'indice de *modifier* un terme d'une matrice :\n",
    "\n"
   ]
  },
  {
   "cell_type": "code",
   "execution_count": null,
   "metadata": {},
   "outputs": [],
   "source": [
    "A = matrix( [[31, 82, 12],[ 9, 32, 46]])\n",
    "show(A)\n",
    "A[1,1]=42\n",
    "show(A)"
   ]
  },
  {
   "cell_type": "markdown",
   "metadata": {},
   "source": [
    "L'indice est un couple (ligne, colonne). L'indexation des lignes ou des colonnes commence à 0. L'accès à un terme est en lecture et, sauf rares exceptions, aussi en écriture. L'accès en écriture permet par exemple de remplir une matrice conteneur initialisée à 0:\n",
    "\n"
   ]
  },
  {
   "cell_type": "code",
   "execution_count": null,
   "metadata": {},
   "outputs": [],
   "source": [
    "m=matrix(2)\n",
    "show(m)\n",
    "m[0,0]=81\n",
    "m[1,1]=12\n",
    "m[1,0]=33\n",
    "show(m)"
   ]
  },
  {
   "cell_type": "markdown",
   "metadata": {},
   "source": [
    "# Affichages de matrices\n",
    "\n",
    "Pour afficher de façon lisible une matrice, et en particulier une série de matrices, la fonction show sera privilégiée à l'instruction print. Comparer :\n",
    "\n"
   ]
  },
  {
   "cell_type": "code",
   "execution_count": null,
   "metadata": {},
   "outputs": [],
   "source": [
    "A = matrix( [[31, 82, 12],[ 9, 32, 46]])\n",
    "B= matrix( [[81, 42, 99],[ 66, 22, 44],[ 66, 45, 14]])\n",
    "print A\n",
    "print B\n",
    "print A\n",
    "show(A)\n",
    "show(B)\n",
    "show(A)"
   ]
  },
  {
   "cell_type": "markdown",
   "metadata": {},
   "source": [
    "### Astuce\n",
    "\n",
    "Pour limiter l'amplitude de l'affichage vertical de plusieurs matrices affichée avec la fonction **show**, on peut placer une succession de matrices à afficher dans une liste :\n",
    "\n"
   ]
  },
  {
   "cell_type": "code",
   "execution_count": null,
   "metadata": {},
   "outputs": [],
   "source": [
    "A = matrix( [[31, 82, 12],[ 9, 32, 46]])\n",
    "B= matrix( [[81, 42, 99],[ 66, 22, 44],[ 66, 45, 14]])\n",
    "show([A,B])"
   ]
  },
  {
   "cell_type": "markdown",
   "metadata": {},
   "source": [
    "# Matrice conteneur\n",
    "\n",
    "Si on ne donne pas de listes au constructeur **matrix** mais qu'on précise des dimensions, une matrice initialisée à zéro et ayant les tailles indiquées est générée :\n",
    "\n"
   ]
  },
  {
   "cell_type": "code",
   "execution_count": null,
   "metadata": {},
   "outputs": [],
   "source": [
    "m=matrix(2,3)\n",
    "show(m)"
   ]
  },
  {
   "cell_type": "markdown",
   "metadata": {},
   "source": [
    "Si la matrice-conteneur est carrée, une seule dimension suffit :\n",
    "\n"
   ]
  },
  {
   "cell_type": "code",
   "execution_count": null,
   "metadata": {},
   "outputs": [],
   "source": [
    "m=matrix(3)\n",
    "show(m)"
   ]
  },
  {
   "cell_type": "markdown",
   "metadata": {},
   "source": [
    "# Nature des lignes d'une matrice\n",
    "\n",
    "Sous Sage, une matrice est une séquence de vecteurs qui constituent les lignes de la matrice. Nous sommes plutôt habitués à voir la matrice d'une application linéaire $f$ comme la matrice des vecteurs-colonnes des coordonnées vecteurs images par $f$ de la base de départ. De même, une matrice de passage est construite en colonnes en y plaçant les coordonnées des vecteurs de la nouvelle base.\n",
    "\n",
    "Sous Sage, on peut parcourir une matrice, et le parcours itère sur les LIGNES de la matrice, renvoyées sous forme de vecteurs. Si on indexe une matrice par $i$, on obtient la ligne numéro $i$ sous forme de vecteur :\n",
    "\n"
   ]
  },
  {
   "cell_type": "code",
   "execution_count": null,
   "metadata": {},
   "outputs": [],
   "source": [
    "A = matrix( [[31, 82, 12],[ 9, 32, 46]])\n",
    "for v in A:\n",
    "    show(v)\n",
    "    print type(v)\n",
    "print \"-----------------------------------------------------------\"\n",
    "show(A[0])\n",
    "print type(A[0])"
   ]
  },
  {
   "cell_type": "markdown",
   "metadata": {},
   "source": [
    "On peut utiliser ce procédé pour extraire un vecteur colonne d'une matrice :\n",
    "\n"
   ]
  },
  {
   "cell_type": "code",
   "execution_count": null,
   "metadata": {},
   "outputs": [],
   "source": [
    "A = matrix( [[31, 82, 12],[ 9, 32, 46]])\n",
    "# extraction de la dernière colonne sous forme de vecteur\n",
    "v=A.transpose()[2]\n",
    "show([A,v])"
   ]
  },
  {
   "cell_type": "markdown",
   "metadata": {},
   "source": [
    "Les vecteurs d'une matrice sont en lecture seule donc il est impossible de modifier une matrice en modifiant directement un des vecteurs-lignes qui la compose :\n",
    "\n"
   ]
  },
  {
   "cell_type": "code",
   "execution_count": null,
   "metadata": {},
   "outputs": [],
   "source": [
    "A = matrix( [[31, 82, 2020],[ 9, 32, 46]])\n",
    "show(A)\n",
    "print A[0][2]\n",
    "# Déclenche une erreur\n",
    "A[0][2]=3000"
   ]
  },
  {
   "cell_type": "markdown",
   "metadata": {},
   "source": [
    "# Variantes de définition d'une matrice\n",
    "\n",
    "Il est possible de préciser l'anneau de base des éléments de la matrice, par exemple RR\n",
    "\n"
   ]
  },
  {
   "cell_type": "code",
   "execution_count": null,
   "metadata": {},
   "outputs": [],
   "source": [
    "matrix(RR, [[31/3, 82, 12],[ 9, 32, 46]])"
   ]
  },
  {
   "cell_type": "markdown",
   "metadata": {},
   "source": [
    "Si on précise les deux dimensions $n$ et $p$ de la matrice, il est possible de placer les coefficients dans une liste de $np$ éléments :\n",
    "\n"
   ]
  },
  {
   "cell_type": "code",
   "execution_count": null,
   "metadata": {},
   "outputs": [],
   "source": [
    "print matrix(2, 3,[31, 82, 12, 9, 32, 46])\n",
    "print\n",
    "print matrix(2, 3,[31, 82, 12, 9, 32, 46])"
   ]
  },
  {
   "cell_type": "markdown",
   "metadata": {},
   "source": [
    "Il est possible de ne donner qu'une seule dimension ce qui construira, selon les cas, une matrice carrée ou une matrice-colonne\n",
    "\n"
   ]
  },
  {
   "cell_type": "code",
   "execution_count": null,
   "metadata": {},
   "outputs": [],
   "source": [
    "A=matrix(2, [31, 82, 12, 9])\n",
    "print A\n",
    "print\n",
    "B=matrix(4, [31, 82, 12, 9])\n",
    "print B\n",
    "print"
   ]
  },
  {
   "cell_type": "markdown",
   "metadata": {},
   "source": [
    "# Matrice vérifiant un motif défini par une fonction\n",
    "\n",
    "On peut définir une matrice M à l'aide d'une fonction `f(i,j)` qui définira l'élément de la matrice M aux indices (i,j)\n",
    "\n"
   ]
  },
  {
   "cell_type": "code",
   "execution_count": null,
   "metadata": {},
   "outputs": [],
   "source": [
    "def f(i,j):\n",
    "    return i+j\n",
    "matrix(5, 4, f)"
   ]
  },
  {
   "cell_type": "markdown",
   "metadata": {},
   "source": [
    "# Matrice à coefficients symboliques\n",
    "\n",
    "Une matrice peut très bien recevoir des coefficients symboliques :\n",
    "\n"
   ]
  },
  {
   "cell_type": "code",
   "execution_count": null,
   "metadata": {},
   "outputs": [],
   "source": [
    "M=matrix([[x^2, 1],[-1, cos(x)]])\n",
    "show(M)"
   ]
  },
  {
   "cell_type": "markdown",
   "metadata": {},
   "source": [
    "Toutefois, pour écrire des coefficients symboliques dans une matrice, les coefficients de la matrice doivent être dans le domaine `SR` (*Symbolic Ring*) :\n",
    "\n"
   ]
  },
  {
   "cell_type": "code",
   "execution_count": null,
   "metadata": {},
   "outputs": [],
   "source": [
    "M=matrix(SR, [[1, 1],[1, 1]])\n",
    "M[1,1]=x^2\n",
    "show(M)"
   ]
  },
  {
   "cell_type": "markdown",
   "metadata": {},
   "source": [
    "On peut définir une matrice coefficients symboliques de taille arbitraire `n` et dont tous les coefficients sont initialisés à zéro :\n",
    "\n"
   ]
  },
  {
   "cell_type": "code",
   "execution_count": null,
   "metadata": {},
   "outputs": [],
   "source": [
    "M=matrix(SR, 3, 2)\n",
    "show(M)\n",
    "\n",
    "M=matrix(SR, 2)\n",
    "show(M)"
   ]
  },
  {
   "cell_type": "markdown",
   "metadata": {},
   "source": [
    "Si `SR` est omis, alors SageMath risque de rencontrer un problème de conversion :\n",
    "\n"
   ]
  },
  {
   "cell_type": "code",
   "execution_count": null,
   "metadata": {},
   "outputs": [],
   "source": [
    "M=matrix([[1, 1],[1, 1]])\n",
    "M[1,1]=x^2\n",
    "show(M)"
   ]
  },
  {
   "cell_type": "markdown",
   "metadata": {},
   "source": [
    "# Lignes d'une matrice venant de vecteurs\n",
    "\n",
    "On peut construire une matrice en donnant une liste de vecteurs qui seront alors vus comme des lignes de la matrice\n",
    "\n"
   ]
  },
  {
   "cell_type": "code",
   "execution_count": null,
   "metadata": {},
   "outputs": [],
   "source": [
    "u=vector([81, 31, 9])\n",
    "v=vector([12, 32, 46])\n",
    "m=matrix([u,u+v])\n",
    "show(m)"
   ]
  },
  {
   "cell_type": "code",
   "execution_count": null,
   "metadata": {},
   "outputs": [],
   "source": [
    "# les coordonnées (des listes)\n",
    "L1=[2, 2, 1, -1]\n",
    "L2=[0, 0, 1, 3]\n",
    "L3=[1, 1, -2, -8]\n",
    "# les vecteurs\n",
    "u1=vector(L1)\n",
    "u2=vector(L2)\n",
    "u3=vector(L3)\n",
    "# Liste des vecteurs\n",
    "L=[u1, u2, u3]\n",
    "print L\n",
    "# On appelle matrix sur la liste L :\n",
    "M=matrix(L)\n",
    "show(M)"
   ]
  },
  {
   "cell_type": "markdown",
   "metadata": {},
   "source": [
    "En particulier, on peut définir à partir d'un vecteur V une matrice colonne (ayant une seule colonne) et dont les composantes sont les coordonnées du vecteur :\n",
    "\n"
   ]
  },
  {
   "cell_type": "code",
   "execution_count": null,
   "metadata": {},
   "outputs": [],
   "source": [
    "u=vector([81, 31, 9])\n",
    "X=matrix(u).transpose()\n",
    "show([u,X])"
   ]
  },
  {
   "cell_type": "markdown",
   "metadata": {},
   "source": [
    "## EXERCICES\n",
    "\n"
   ]
  },
  {
   "cell_type": "markdown",
   "metadata": {},
   "source": [
    "### Exercice n° 3 : Matrice bidiagonale\n",
    "\n"
   ]
  },
  {
   "cell_type": "markdown",
   "metadata": {},
   "source": [
    "1) Ecrire une fonction **bidiag** qui, à partir d'un entier naturel $n\\geq 1$ construit la matrice $M$ d'ordre $2n$ dont :\n",
    "\n",
    "- la diagonale secondaire, lue en descendant, est formée de 1 et de -1 en alternance (1 est dans le coin en haut à droite)\n",
    "\n",
    "- la diagonale principale a tous ses coefficients qui valent 1.\n",
    "\n",
    "Noter que les diagonales ne peuvent se croiser.\n",
    "\n",
    "Par exemple, si $n=8$ alors la matrice $M$ à construire est la suivante :\n",
    "\n",
    "$$\\left(\\begin{array}{rrrrrrrr}1 & 0 & 0 & 0 & 0 & 0 & 0 & 1 \\\\0 & 1 & 0 & 0 & 0 & 0 & -1 & 0 \\\\0 & 0 & 1 & 0 & 0 & 1 & 0 & 0 \\\\0 & 0 & 0 & 1 & -1 & 0 & 0 & 0 \\\\0 & 0 & 0 & 1 & 1 & 0 & 0 & 0 \\\\0 & 0 & -1 & 0 & 0 & 1 & 0 & 0 \\\\0 & 1 & 0 & 0 & 0 & 0 & 1 & 0 \\\\-1 & 0 & 0 & 0 & 0 & 0 & 0 & 1\\end{array}\\right)$$\n",
    "\n"
   ]
  },
  {
   "cell_type": "code",
   "execution_count": null,
   "metadata": {},
   "outputs": [],
   "source": [
    "# Votre code CI-DESSOUS\n"
   ]
  },
  {
   "cell_type": "markdown",
   "metadata": {},
   "source": [
    "2) En faisant quelques tests sur des matrices M, conjecturer une formule qui calcule directement le déterminant d'une matrice $M$ comme ci-dessus et écrire le code de cette formule dans une fonction puis tester cette fonction.\n",
    "\n"
   ]
  },
  {
   "cell_type": "code",
   "execution_count": null,
   "metadata": {},
   "outputs": [],
   "source": [
    "# Votre code CI-DESSOUS\n"
   ]
  },
  {
   "cell_type": "markdown",
   "metadata": {},
   "source": [
    "### Exercice n° 4 : Bords d'une matrice\n",
    "\n"
   ]
  },
  {
   "cell_type": "markdown",
   "metadata": {},
   "source": [
    "Étant donné une matrice $M$, on appelle 1er *bord* de $M$ les coefficients de cette matrice qui sont soit sur la première ligne, soit sur la dernière ligne, soit sur la première colonne, soit sur la dernière colonne. De même, on appelle 2ème bord de $M$ les coefficients de $M$ qui ne sont pas sur le 1er bord et qui sont soit sur la 2ème ligne, soit sur la 2ème colonne soit sur l'avant-dernière ligne soit sur l'avant dernière colonne. De manière analogue, on définit le 3ème, 4ème, etc bord de $M$.\n",
    "\n",
    "*Cet exercice est très formateur et vaut la peine de chercher. Utilisez une feuille quadrillée, y arriver est surtout une affaire d'organisation et de méticulosité. Cet exercice peut nécessiter pas loin d'une heure de recherche (mais il peut être fait en 10 minutes si vous êtes algorithmicien).*\n",
    "\n"
   ]
  },
  {
   "cell_type": "markdown",
   "metadata": {},
   "source": [
    "1) Ecrire une fonction **f(n)** qui retourne la matrice de taille $n\\times n$ dont le 1er bord est formé uniquement de coefficients valant 1, le 2ème bord uniquement de coefficients valant 2 et ainsi de suite jusqu'à ce que tous les coefficients de la matrice soient énumérés. Par exemple, si $n=15$ la fonction doit renvoyer la matrice suivante :\n",
    "\n",
    "$$\\newcommand{\\Bold}[1]{\\mathbf{#1}}\\left(\\begin{array}{rrrrrrrrrrrrrrr}1 & 1 & 1 & 1 & 1 & 1 & 1 & 1 & 1 & 1 & 1 & 1 & 1 & 1 & 1 \\\\1 & 2 & 2 & 2 & 2 & 2 & 2 & 2 & 2 & 2 & 2 & 2 & 2 & 2 & 1 \\\\1 & 2 & 3 & 3 & 3 & 3 & 3 & 3 & 3 & 3 & 3 & 3 & 3 & 2 & 1 \\\\1 & 2 & 3 & 4 & 4 & 4 & 4 & 4 & 4 & 4 & 4 & 4 & 3 & 2 & 1 \\\\1 & 2 & 3 & 4 & 5 & 5 & 5 & 5 & 5 & 5 & 5 & 4 & 3 & 2 & 1 \\\\1 & 2 & 3 & 4 & 5 & 6 & 6 & 6 & 6 & 6 & 5 & 4 & 3 & 2 & 1 \\\\1 & 2 & 3 & 4 & 5 & 6 & 7 & 7 & 7 & 6 & 5 & 4 & 3 & 2 & 1 \\\\1 & 2 & 3 & 4 & 5 & 6 & 7 & 8 & 7 & 6 & 5 & 4 & 3 & 2 & 1 \\\\1 & 2 & 3 & 4 & 5 & 6 & 7 & 7 & 7 & 6 & 5 & 4 & 3 & 2 & 1 \\\\1 & 2 & 3 & 4 & 5 & 6 & 6 & 6 & 6 & 6 & 5 & 4 & 3 & 2 & 1 \\\\1 & 2 & 3 & 4 & 5 & 5 & 5 & 5 & 5 & 5 & 5 & 4 & 3 & 2 & 1 \\\\1 & 2 & 3 & 4 & 4 & 4 & 4 & 4 & 4 & 4 & 4 & 4 & 3 & 2 & 1 \\\\1 & 2 & 3 & 3 & 3 & 3 & 3 & 3 & 3 & 3 & 3 & 3 & 3 & 2 & 1 \\\\1 & 2 & 2 & 2 & 2 & 2 & 2 & 2 & 2 & 2 & 2 & 2 & 2 & 2 & 1 \\\\1 & 1 & 1 & 1 & 1 & 1 & 1 & 1 & 1 & 1 & 1 & 1 & 1 & 1 & 1\\end{array}\\right)$$\n",
    "\n",
    "Voici une attaque possible.\n",
    "\n",
    "- On commencera par créer dans la fonction une matrice d'ordre `n` remplie de 0, cf. code ci-après.\n",
    "\n",
    "- Regardez quelques exemples et vérifiez que si `n` est l'ordre de `M` alors le nombre de bord est `m = (n+1)//2`.\n",
    "\n",
    "- Cela veut dire que si vous bouclez `m` fois avec une boucle `for`, vous pouvez remplir la matrice, bord après bord\n",
    "\n",
    "- Pour remplir chaque bord avec la valeur disons `k`, utiliser la position ligne/colonne `(i, j)` du coin supérieur gauche du bord ; vous remarquerez que `i = j`. Vous noterez qu'il y a aussi un lien entre `i` et `k`.\n",
    "\n",
    "- En connaissant la longueur du bord, vous pouvez calculer la position des quatre coins. Ensuite, avec 4 boucles for successives, vous placerez la valeur `k` dans les quatre côté du bord.\n",
    "\n",
    "- Pour finir, la fonction renverra `M`.\n",
    "\n"
   ]
  },
  {
   "cell_type": "code",
   "execution_count": null,
   "metadata": {},
   "outputs": [],
   "source": [
    "M=matrix(n,n)"
   ]
  },
  {
   "cell_type": "code",
   "execution_count": null,
   "metadata": {},
   "outputs": [],
   "source": [
    "# Votre code CI-DESSOUS\n"
   ]
  },
  {
   "cell_type": "markdown",
   "metadata": {},
   "source": [
    "2) Quel semble être le rang de $M$ en fonction du nombre de lignes $n$ de $M$ ? Précision : Le rang d'une matrice se calcule sous sageMath via la commande `M.rank()`\n",
    "\n"
   ]
  },
  {
   "cell_type": "code",
   "execution_count": null,
   "metadata": {},
   "outputs": [],
   "source": [
    "# Votre code CI-DESSOUS\n"
   ]
  },
  {
   "cell_type": "markdown",
   "metadata": {},
   "source": [
    "### Exercice n° 5 : Matrice de Pascal\n",
    "\n"
   ]
  },
  {
   "cell_type": "markdown",
   "metadata": {},
   "source": [
    "On donne un entier $n>0$  et on demande d'écrire une fonction `pascal(n)` qui renvoie la matrice carrée d'ordre $n$ dont les lignes sont les $n$ premières lignes du tableau de Pascal, les autres coefficients étant nuls. Par exemple, por $\\mathtt{n=6}$, la fonction renvoie la matrice :\n",
    "\n",
    "$$\\left(\\begin{array}{rrrrrr}1 & 0 & 0 & 0 & 0 & 0 \\\\1 & 1 & 0 & 0 & 0 & 0 \\\\1 & 2 & 1 & 0 & 0 & 0 \\\\1 & 3 & 3 & 1 & 0 & 0 \\\\1 & 4 & 6 & 4 & 1 & 0 \\\\1 & 5 & 10 & 10 & 5 & 1\\end{array}\\right) $$\n",
    "\n",
    "On proposera deux méthodes, l'une utilisant les coefficients binomiaux et l'autre utilisant la règle de construction d'une ligne du tableau de Pascal.\n",
    "\n"
   ]
  },
  {
   "cell_type": "code",
   "execution_count": null,
   "metadata": {},
   "outputs": [],
   "source": [
    "# Votre code CI-DESSOUS\n"
   ]
  },
  {
   "cell_type": "markdown",
   "metadata": {},
   "source": [
    "### Exercice n° 6 : Remplissage  en hélice d'une matrice\n",
    "\n"
   ]
  },
  {
   "cell_type": "markdown",
   "metadata": {},
   "source": [
    "*Passer cet exercice s'il vous paraît trop difficile*\n",
    "\n",
    "On se propose de remplir une matrice de taille $n\\times p$ par tous les entiers consécutifs entre 1 et $np$ formant un motif en hélice. Voici le remplissage si $n=6$ et $p=7$ :\n",
    "\n",
    "$$\\left(\\begin{array}{rrrrrrr}6 & 7 & 8 & 9 & 10 & 11 & 12 \\\\5 & 26 & 27 & 28 & 29 & 30 & 13 \\\\4 & 25 & 38 & 39 & 40 & 31 & 14 \\\\3 & 24 & 37 & 42 & 41 & 32 & 15 \\\\2 & 23 & 36 & 35 & 34 & 33 & 16 \\\\1 & 22 & 21 & 20 & 19 & 18 & 17\\end{array}\\right)$$\n",
    "\n",
    "Le remplissage de la matrice commence en bas à gauche et s'effectue vers le haut. On garde la direction courante sauf si la case suivante est hors de la grille ou si elle a déjà été remplie auquel cas on prend la direction à droite.\n",
    "\n"
   ]
  },
  {
   "cell_type": "code",
   "execution_count": null,
   "metadata": {},
   "outputs": [],
   "source": [
    "# Votre code CI-DESSOUS\n"
   ]
  },
  {
   "cell_type": "markdown",
   "metadata": {},
   "source": [
    "### Exercice n° 7 : Tester si une matrice est triangulaire\n",
    "\n"
   ]
  },
  {
   "cell_type": "markdown",
   "metadata": {},
   "source": [
    "1) Ecrire une fonction **estTriangulaireSup** qui teste si une matrice carrée est triangulaire supérieure (et alors retourne **True**). En déduire une fonction **estTriangulaireInf** qui teste si une matrice carrée est triangulaire inférieure. On observera que les indices $(i,j)$ des termes strictement de la diagonale principale vérifient $i>j$.\n",
    "\n"
   ]
  },
  {
   "cell_type": "code",
   "execution_count": null,
   "metadata": {},
   "outputs": [],
   "source": [
    "# Votre code CI-DESSOUS\n"
   ]
  },
  {
   "cell_type": "markdown",
   "metadata": {},
   "source": [
    "2) Ecrire une fonction **estTriangulaireStrictSup** qui teste si une matrice carrée est triangulaire supérieure stricte ie à diagonale nulle. Tester avec les matrices données ci-dessous.\n",
    "\n"
   ]
  },
  {
   "cell_type": "code",
   "execution_count": null,
   "metadata": {},
   "outputs": [],
   "source": [
    "# Votre code CI-DESSOUS\n"
   ]
  },
  {
   "cell_type": "markdown",
   "metadata": {},
   "source": [
    "# Somme, combinaison linéaire\n",
    "\n"
   ]
  },
  {
   "cell_type": "code",
   "execution_count": null,
   "metadata": {},
   "outputs": [],
   "source": [
    "A = matrix( [[1, 2,0],[ 3, 4,-2]])\n",
    "B = matrix( [[-2, 1,-1],[1,1, 1]])\n",
    "show(A)\n",
    "show(B)\n",
    "show(A+B)"
   ]
  },
  {
   "cell_type": "markdown",
   "metadata": {},
   "source": [
    "Produit par un scalaire\n",
    "\n"
   ]
  },
  {
   "cell_type": "code",
   "execution_count": null,
   "metadata": {},
   "outputs": [],
   "source": [
    "A = matrix( [[31, 82, 12],[ 9, 32, 46]])\n",
    "show(A)\n",
    "show(10*A)\n",
    "show(-A)"
   ]
  },
  {
   "cell_type": "markdown",
   "metadata": {},
   "source": [
    "# Egalité de matrices\n",
    "\n",
    "Elle se fait en utilisant l'opérateur == :\n",
    "\n"
   ]
  },
  {
   "cell_type": "code",
   "execution_count": null,
   "metadata": {},
   "outputs": [],
   "source": [
    "A = matrix([[0,0],[0,0]])\n",
    "B=matrix(2)\n",
    "print A==B"
   ]
  },
  {
   "cell_type": "markdown",
   "metadata": {},
   "source": [
    "# Produit d'une matrice par un vecteur\n",
    "\n",
    "Sage permet de multiplier une matrice A et un vecteur V ce qui donne un vecteur :\n",
    "\n"
   ]
  },
  {
   "cell_type": "code",
   "execution_count": null,
   "metadata": {},
   "outputs": [],
   "source": [
    "A = matrix([[2, 1, 3],[ 0, -1, 2]])\n",
    "V=vector([1,1,1])\n",
    "show([A,V])\n",
    "show(A*V)"
   ]
  },
  {
   "cell_type": "code",
   "execution_count": null,
   "metadata": {},
   "outputs": [],
   "source": [
    "A = matrix([[2, 1, 3],[ 0, -1, 2]])\n",
    "L=[1,1,1]\n",
    "V=vector(L)\n",
    "X=matrix(L).transpose()\n",
    "show(A*X)\n",
    "show(A*V)"
   ]
  },
  {
   "cell_type": "markdown",
   "metadata": {},
   "source": [
    "Cela suppose que le nombre d'éléments de $V$ soit le nombre de colonnes de $A$. Noter bien qu'ici, $V$ désigne un objet de type **vector** et non pas un objet de type **matrix**, autrement dit $AV$ n'est pas à proprement parler un produit de matrices.\n",
    "\n",
    "Noter que la produit d'une matrice A et d'un vecteur V correspond au produit de la matrice `A` et du vecteur colonne X où X est la matrice-colonne représentant le vecteur V :\n",
    "\n"
   ]
  },
  {
   "cell_type": "code",
   "execution_count": null,
   "metadata": {},
   "outputs": [],
   "source": [
    "A = matrix([[2, 1, 3],[ 0, -1, 2]])\n",
    "L=[1,1,1]\n",
    "V=vector(L)\n",
    "X=column_matrix(L)\n",
    "Y=A*X\n",
    "W=A*V\n",
    "show(Y)\n",
    "show(W)"
   ]
  },
  {
   "cell_type": "markdown",
   "metadata": {},
   "source": [
    "On rappelle que si l'application linéaire $f$ est représentée par la matrice `A`, les actions $f(V)$ et $AX$ sont équivalentes.\n",
    "\n"
   ]
  },
  {
   "cell_type": "markdown",
   "metadata": {},
   "source": [
    "# Produit de matrices\n",
    "\n"
   ]
  },
  {
   "cell_type": "code",
   "execution_count": null,
   "metadata": {},
   "outputs": [],
   "source": [
    "show(A*10*B)"
   ]
  },
  {
   "cell_type": "markdown",
   "metadata": {},
   "source": [
    "# Puissances, inverse de matrice\n",
    "\n",
    "On calcule la puissance d'une matrice avec la notation traditionnelle en mathématique (le circonflexe) ou avec la notation propre à Python\n",
    "\n"
   ]
  },
  {
   "cell_type": "code",
   "execution_count": null,
   "metadata": {},
   "outputs": [],
   "source": [
    "A = matrix( [[1, 2],[ -1, 3]])\n",
    "show([A^3,A**3])"
   ]
  },
  {
   "cell_type": "markdown",
   "metadata": {},
   "source": [
    "L'inverse est un cas particulier de la puissance. On peut aussi utiliser la méthode **inverse** :\n",
    "\n"
   ]
  },
  {
   "cell_type": "code",
   "execution_count": null,
   "metadata": {},
   "outputs": [],
   "source": [
    "# Inverse d'une matrice\n",
    "A = matrix( [[1, 2],[ -1, 3]])\n",
    "B=A^-1\n",
    "show(B)\n",
    "# Vérifions\n",
    "show([A*B,B*A])\n",
    "C=A.inverse()\n",
    "show(C)\n",
    "print B==C"
   ]
  },
  {
   "cell_type": "markdown",
   "metadata": {},
   "source": [
    "# Noyau d'une matrice\n",
    "\n",
    "Si $A$ est une matrice, Sage permet de déterminer le sous-espace des vecteurs X tels que $AX=0$ et que j'appelerai, par abus, le *noyau d'une matrice (* ici de la matrice $A$). Exemple :\n",
    "\n"
   ]
  },
  {
   "cell_type": "code",
   "execution_count": null,
   "metadata": {},
   "outputs": [],
   "source": [
    "m=matrix([(2, 2, 1, -1), (0, 0, 1, 3), (1, 1, -2, -8)])\n",
    "show(m)\n",
    "ker=m.right_kernel().basis() # un conteneur\n",
    "print\n",
    "print ker\n",
    "print\n",
    "# vérifions\n",
    "show(m*matrix(ker).transpose())"
   ]
  },
  {
   "cell_type": "markdown",
   "metadata": {},
   "source": [
    "La méthode $\\verb|right_kernel().basis()|$ renvoie une liste de vecteurs qui forment une base du noyau.\n",
    "\n",
    "Si le noyau est réduit à 0, par définition il n'y pas de base, et la liste renvoyée est vide. Pour savoir si le noyau est réduit à 0, on applique la fonction standard **len** au conteneur pour connaître sa taille :\n",
    "\n"
   ]
  },
  {
   "cell_type": "code",
   "execution_count": null,
   "metadata": {},
   "outputs": [],
   "source": [
    "m=matrix([[2,3],[1,1]])\n",
    "show(m)\n",
    "ker=m.right_kernel().basis()\n",
    "len(ker)"
   ]
  },
  {
   "cell_type": "markdown",
   "metadata": {},
   "source": [
    "# Image d'une matrice\n",
    "\n",
    "Il s'agit du sous-espace vectoriel engendré par les vecteurs colonnes de la matrice et il s'agit de l'image de l'applications linéaire associée à la matrice.\n",
    "\n"
   ]
  },
  {
   "cell_type": "code",
   "execution_count": null,
   "metadata": {},
   "outputs": [],
   "source": [
    "m=matrix([(2, 2, 1, -1), (0, 0, 1, 3), (1, 1, -2, -8)])\n",
    "show(m)\n",
    "print m.column_space().basis()# conteneur de vecteurs"
   ]
  },
  {
   "cell_type": "markdown",
   "metadata": {},
   "source": [
    "La méthode **column_space().basis()** renvoie une liste de vecteurs qui forment une base de l'image. Si la matrice est nulle, la liste est vide, normal, le sous-espace nul n'admet pas de base.\n",
    "\n"
   ]
  },
  {
   "cell_type": "markdown",
   "metadata": {},
   "source": [
    "## EXERCICE\n",
    "\n"
   ]
  },
  {
   "cell_type": "markdown",
   "metadata": {},
   "source": [
    "### Exercice n° 8 : Noyau et image d'une matrice\n",
    "\n"
   ]
  },
  {
   "cell_type": "markdown",
   "metadata": {},
   "source": [
    "1) Soit l'application linéaire $f$ de $\\R^3$ canoniquement associée à la matrice $A=\\left(\\begin{array}{rrr}-2 & 1 & 1 \\\\8 & 1 & -5 \\\\4 & 3 & -3\\end{array}\\right)$. Déterminer une base du noyau.\n",
    "\n"
   ]
  },
  {
   "cell_type": "code",
   "execution_count": null,
   "metadata": {},
   "outputs": [],
   "source": [
    "# Votre code CI-DESSOUS\n"
   ]
  },
  {
   "cell_type": "markdown",
   "metadata": {},
   "source": [
    "2)a) Déterminer une base de l'image de $f$.\n",
    "\n"
   ]
  },
  {
   "cell_type": "code",
   "execution_count": null,
   "metadata": {},
   "outputs": [],
   "source": [
    "# Votre code CI-DESSOUS\n"
   ]
  },
  {
   "cell_type": "markdown",
   "metadata": {},
   "source": [
    "b) Déterminer une équation cartésienne de l'image de $f$.\n",
    "\n"
   ]
  },
  {
   "cell_type": "code",
   "execution_count": null,
   "metadata": {},
   "outputs": [],
   "source": [
    "# Votre code CI-DESSOUS\n"
   ]
  },
  {
   "cell_type": "markdown",
   "metadata": {},
   "source": [
    "# Transposée d'une matrice\n",
    "\n",
    "La transposée d'une matrice est construite avec la méthode `transpose` ou avec la fonction `transpose` :\n",
    "\n"
   ]
  },
  {
   "cell_type": "code",
   "execution_count": null,
   "metadata": {},
   "outputs": [],
   "source": [
    "A = matrix( [[1, 2],[ -1, 3]])\n",
    "show(A)\n",
    "show([A.transpose(), transpose(A)]) \n",
    "# A est préservée :\n",
    "show(A)"
   ]
  },
  {
   "cell_type": "markdown",
   "metadata": {},
   "source": [
    "Observer que la transposition de $A$ ne modifie pas $A$ mais crée une nouvelle matrice.\n",
    "\n"
   ]
  },
  {
   "cell_type": "markdown",
   "metadata": {},
   "source": [
    "# Trace d'une matrice\n",
    "\n",
    "C'est la somme des coefficients diagonaux d'une matrice. On l'obtient avec la méthode trace :\n",
    "\n"
   ]
  },
  {
   "cell_type": "code",
   "execution_count": null,
   "metadata": {},
   "outputs": [],
   "source": [
    "A = matrix( [[1, 2],[ -1, 3]])\n",
    "show(A)\n",
    "print(A.trace())"
   ]
  },
  {
   "cell_type": "markdown",
   "metadata": {},
   "source": [
    "Attention, ne pas utiliser la fonction trace pour calculer la trace d'une matrice, la fonction trace ayant en Sage une autre fonctionnalité (traçage d'une fonction) :\n",
    "\n"
   ]
  },
  {
   "cell_type": "code",
   "execution_count": null,
   "metadata": {},
   "outputs": [],
   "source": [
    "A = matrix( [[1, 2],[ -1, 3]])\n",
    "trace(A)"
   ]
  },
  {
   "cell_type": "markdown",
   "metadata": {},
   "source": [
    "## EXERCICE\n",
    "\n"
   ]
  },
  {
   "cell_type": "markdown",
   "metadata": {},
   "source": [
    "### Exercice n° 9 : Trace d'une matrice carrée\n",
    "\n"
   ]
  },
  {
   "cell_type": "markdown",
   "metadata": {},
   "source": [
    "On appelle *trace* d'une matrice carrée la somme des éléments de sa diagonale principale c'est-à-dire de la diagonale qui joint l'élément en haut à gauche et l'élément en bas à droite. Par exemple, si $A=\\left(\\begin{array}{rr}4 & 8 \\\\6 & 2\\end{array}\\right)$ alors la trace de $A$ vaut $4+2=6$\n",
    "\n",
    "Ecrire une fonction `tr(A)` qui calcule la trace de la matrice carrée $A$.\n",
    "\n"
   ]
  },
  {
   "cell_type": "code",
   "execution_count": null,
   "metadata": {},
   "outputs": [],
   "source": [
    "# Votre code CI-DESSOUS\n"
   ]
  },
  {
   "cell_type": "markdown",
   "metadata": {},
   "source": [
    "# Rang d'une matrice\n",
    "\n",
    "Le rang d'une matrice est\n",
    "\n",
    "- la dimension du sev engendré par ses vecteurs-lignes\n",
    "\n",
    "- la dimension du sev engendré par ses vecteurs-colonnes\n",
    "\n",
    "On l'obtient avec la fonction **rank** ou la méthode **rank** :\n",
    "\n"
   ]
  },
  {
   "cell_type": "code",
   "execution_count": null,
   "metadata": {},
   "outputs": [],
   "source": [
    "A = matrix( [[1, 2, 0],[ 2, 4,0]])\n",
    "show(A)\n",
    "print A.rank(), rank(A)"
   ]
  },
  {
   "cell_type": "markdown",
   "metadata": {},
   "source": [
    "Bien sûr, pour calculer le rang d'une famille de vecteurs, on se ramène à calculer le rang de la matrice dont les lignes (ou les colonnes) sont formées de ces vecteurs :\n",
    "\n"
   ]
  },
  {
   "cell_type": "code",
   "execution_count": null,
   "metadata": {},
   "outputs": [],
   "source": [
    "V= [vector([1, 2, 0]),vector([2, 4,0])]\n",
    "A = matrix(V)\n",
    "print A.rank()"
   ]
  },
  {
   "cell_type": "markdown",
   "metadata": {},
   "source": [
    "# Déterminant d'une matrice\n",
    "\n",
    "On l'obtient avec la fonction **det**\n",
    "\n"
   ]
  },
  {
   "cell_type": "code",
   "execution_count": null,
   "metadata": {},
   "outputs": [],
   "source": [
    "A = matrix( [[1, 2],[ -1, 3]])\n",
    "show(A)\n",
    "print det(A)"
   ]
  },
  {
   "cell_type": "markdown",
   "metadata": {},
   "source": [
    "On obtient le même résultat avec les méthodes **det** et **determinant**\n",
    "\n"
   ]
  },
  {
   "cell_type": "code",
   "execution_count": null,
   "metadata": {},
   "outputs": [],
   "source": [
    "A = matrix( [[1, 2],[ -1, 3]])\n",
    "show(A)\n",
    "print A.det(), A.determinant()"
   ]
  },
  {
   "cell_type": "markdown",
   "metadata": {},
   "source": [
    "# Raccourcis pour les matrices scalaires\n",
    "\n",
    "Une matrice scalaire étant du type $cI_n$ où $I_n$ est la matrice identité de taille $n$, la matrice scalaire $\\verb|c*I|$ s'assimile au scalaire $\\verb|c|$. Ainsi, Sage permet parfois d'écrire $\\verb|c|$ au lieu de $\\verb|c*I|$ :\n",
    "\n"
   ]
  },
  {
   "cell_type": "code",
   "execution_count": null,
   "metadata": {},
   "outputs": [],
   "source": [
    "A=matrix([[81,32],[12,9]])\n",
    "show(A)\n",
    "B=A+100 # 100 dans ce contexte vaut en fait 100*I où I est la matrice identité 2x2\n",
    "show(B)"
   ]
  },
  {
   "cell_type": "markdown",
   "metadata": {},
   "source": [
    "# Matrices remarquables\n",
    "\n",
    "La matrice nulle, la matrice identité, les matrices scalaires (ie des matrices de la forme $k I_n$) :\n",
    "\n"
   ]
  },
  {
   "cell_type": "code",
   "execution_count": null,
   "metadata": {},
   "outputs": [],
   "source": [
    "# matrice nulle\n",
    "show(zero_matrix(2,3))\n",
    "show(matrix(2,3))"
   ]
  },
  {
   "cell_type": "code",
   "execution_count": null,
   "metadata": {},
   "outputs": [],
   "source": [
    "# Matrice identité\n",
    "show(matrix(5, 5, 1))\n",
    "show(identity_matrix(QQ, 5))"
   ]
  },
  {
   "cell_type": "code",
   "execution_count": null,
   "metadata": {},
   "outputs": [],
   "source": [
    "# Matrice scalaire\n",
    "a=42\n",
    "n=5\n",
    "show(matrix(n,n,a))"
   ]
  },
  {
   "cell_type": "markdown",
   "metadata": {},
   "source": [
    "# Matrices diagonales\n",
    "\n",
    "Sage permet de construire des matrices diagonales dont la diagonale est donnée :\n",
    "\n"
   ]
  },
  {
   "cell_type": "code",
   "execution_count": null,
   "metadata": {},
   "outputs": [],
   "source": [
    "# Construction d'une matrice diagonale\n",
    "A = diagonal_matrix([2, 1, 5]); A\n",
    "show(A)\n",
    "A = diagonal_matrix(7,[2, 1, 5])\n",
    "show(A)\n",
    "# noter que Sage a complété par des zéros"
   ]
  },
  {
   "cell_type": "markdown",
   "metadata": {},
   "source": [
    "Sage permet aussi d'extraire la diagonale d'une matrice, pas forcément carrée :\n",
    "\n"
   ]
  },
  {
   "cell_type": "code",
   "execution_count": null,
   "metadata": {},
   "outputs": [],
   "source": [
    "M=matrix([[2,5], [3,8],[9,0]])\n",
    "show(M)\n",
    "print M.diagonal()"
   ]
  },
  {
   "cell_type": "markdown",
   "metadata": {},
   "source": [
    "# Matrices aléatoires\n",
    "\n",
    "Pour générer une matrice aléatoire, on doit préciser où se trouvent les coefficients (entiers, rationnels par exemple) et les dimensions de la matrice.\n",
    "\n"
   ]
  },
  {
   "cell_type": "code",
   "execution_count": null,
   "metadata": {},
   "outputs": [],
   "source": [
    "show(random_matrix(ZZ, 12, 4))"
   ]
  },
  {
   "cell_type": "markdown",
   "metadata": {},
   "source": [
    "Pour les entiers, l'anneau de base mentionné sera ZZ, pour les rationnels, ce sera QQ :\n",
    "\n"
   ]
  },
  {
   "cell_type": "code",
   "execution_count": null,
   "metadata": {},
   "outputs": [],
   "source": [
    "show(random_matrix(QQ, 12, 4))"
   ]
  },
  {
   "cell_type": "markdown",
   "metadata": {},
   "source": [
    "Dans l'usage le plus simple comme montré ci-dessus, la majorité des coefficients valent -1, 0 ou 1, la matrice n'est jamais la matrice nulle et les coefficients sont rarement grands.\n",
    "\n",
    "On peut contraindre les coefficients de la matrice aléatoire à se situer entre deux bornes données en paramètres nommés (x et y) :\n",
    "\n"
   ]
  },
  {
   "cell_type": "code",
   "execution_count": null,
   "metadata": {},
   "outputs": [],
   "source": [
    "A=random_matrix(ZZ, 2, 2, x=10, y=20) # coeffs entre x et y-1\n",
    "show(A)\n",
    "A=random_matrix(ZZ, 2, 2, x=10) # coeffs entre 0 et x-1\n",
    "show(A)"
   ]
  },
  {
   "cell_type": "markdown",
   "metadata": {},
   "source": [
    "En particulier, une matrice à coefficients entre 0 et 1 est générée de la manière suivante :\n",
    "\n"
   ]
  },
  {
   "cell_type": "code",
   "execution_count": null,
   "metadata": {},
   "outputs": [],
   "source": [
    "show(random_matrix(ZZ, 3, 4, x=2))"
   ]
  },
  {
   "cell_type": "markdown",
   "metadata": {},
   "source": [
    "On peut aussi générer des matrices ayant des dimensions et de rang donnés, et même dont les coefficients ne dépassent pas un certain plafond :\n",
    "\n"
   ]
  },
  {
   "cell_type": "code",
   "execution_count": null,
   "metadata": {},
   "outputs": [],
   "source": [
    "A=random_matrix(QQ, 10, 7, algorithm='echelonizable', rank=3, upper_bound=10)\n",
    "show(A)"
   ]
  },
  {
   "cell_type": "markdown",
   "metadata": {},
   "source": [
    "Lorsqu'on utilise la fonction **random\\_matrix** avec le paramètre nommé **algorithm='echelonizable'** et que le rang $r$ est identique au deux dimensions de la matrice, une matrice $M$ inversible d'ordre $r$ est renvoyée et, en outre le déterminant de $M$ est 1 (matrice unimodulaire), en particulier, la matrice est inversible.\n",
    "\n"
   ]
  },
  {
   "cell_type": "code",
   "execution_count": null,
   "metadata": {},
   "outputs": [],
   "source": [
    "r=10\n",
    "A=random_matrix(ZZ, r, r, algorithm='echelonizable', rank=r)\n",
    "show(A)\n",
    "print(det(A))"
   ]
  },
  {
   "cell_type": "markdown",
   "metadata": {},
   "source": [
    "## EXERCICES\n",
    "\n"
   ]
  },
  {
   "cell_type": "markdown",
   "metadata": {},
   "source": [
    "### Exercice n° 10 : Test de matrice diagonale\n",
    "\n"
   ]
  },
  {
   "cell_type": "markdown",
   "metadata": {},
   "source": [
    "SageMath ne propose pas de fonction intégrée de test de matrice diagonale. Ecrire une telle fonction `is_diagonal(M)` qui renvoie `True` si `M` est diagonale et `False` sinon.\n",
    "\n"
   ]
  },
  {
   "cell_type": "code",
   "execution_count": null,
   "metadata": {},
   "outputs": [],
   "source": [
    "# Votre code CI-DESSOUS\n"
   ]
  },
  {
   "cell_type": "markdown",
   "metadata": {},
   "source": [
    "### Exercice n° 11 : Matrice bidiagonale\n",
    "\n"
   ]
  },
  {
   "cell_type": "markdown",
   "metadata": {},
   "source": [
    "1) Ecrire une fonction **bidiag** qui, à partir d'un entier naturel $n\\geq 1$ construit la matrice $M$ d'ordre $2n$ dont :\n",
    "\n",
    "- la diagonale secondaire, lue en descendant, est formée de 1 et de -1 en alternance (1 est dans le coin en haut à droite)\n",
    "\n",
    "- la diagonale principale a tous ses coefficients qui valent 1.\n",
    "\n",
    "Noter que les diagonales ne peuvent se croiser.\n",
    "\n",
    "Par exemple, si $n=8$ alors la matrice $M$ à construire est la suivante :\n",
    "\n",
    "$$\\left(\\begin{array}{rrrrrrrr}1 & 0 & 0 & 0 & 0 & 0 & 0 & 1 \\\\0 & 1 & 0 & 0 & 0 & 0 & -1 & 0 \\\\0 & 0 & 1 & 0 & 0 & 1 & 0 & 0 \\\\0 & 0 & 0 & 1 & -1 & 0 & 0 & 0 \\\\0 & 0 & 0 & 1 & 1 & 0 & 0 & 0 \\\\0 & 0 & -1 & 0 & 0 & 1 & 0 & 0 \\\\0 & 1 & 0 & 0 & 0 & 0 & 1 & 0 \\\\-1 & 0 & 0 & 0 & 0 & 0 & 0 & 1\\end{array}\\right)$$\n",
    "\n"
   ]
  },
  {
   "cell_type": "code",
   "execution_count": null,
   "metadata": {},
   "outputs": [],
   "source": [
    "# Votre code CI-DESSOUS\n"
   ]
  },
  {
   "cell_type": "markdown",
   "metadata": {},
   "source": [
    "2) En faisant quelques tests sur des matrices M, conjecturer une formule qui calcule directement le déterminant d'une matrice $M$ comme ci-dessus et écrire le code de cette formule dans une fonction puis tester cette fonction.\n",
    "\n"
   ]
  },
  {
   "cell_type": "code",
   "execution_count": null,
   "metadata": {},
   "outputs": [],
   "source": [
    "# Votre code CI-DESSOUS\n"
   ]
  },
  {
   "cell_type": "markdown",
   "metadata": {},
   "source": [
    "## EXERCICES\n",
    "\n"
   ]
  },
  {
   "cell_type": "markdown",
   "metadata": {},
   "source": [
    "### Exercice n° 12 : Recherche d'une base dans un espace de dimension 4\n",
    "\n"
   ]
  },
  {
   "cell_type": "markdown",
   "metadata": {},
   "source": [
    "Soient les vecteurs de $\\R^4$ suivants\n",
    "\n",
    "$$u=(1,-2, -16,13), v=(-3,1, 3,-4), w=(-1,0,-2,1), t=(1,1,11,-8)$$\n",
    "\n"
   ]
  },
  {
   "cell_type": "markdown",
   "metadata": {},
   "source": [
    "1) Montrer que la famille $(u,v,w,t)$ est une famille liée et déterminer une combinaison linéaire nulle non triviale entre les 4 vecteurs.\n",
    "\n"
   ]
  },
  {
   "cell_type": "code",
   "execution_count": null,
   "metadata": {},
   "outputs": [],
   "source": [
    "# Votre code CI-DESSOUS\n"
   ]
  },
  {
   "cell_type": "markdown",
   "metadata": {},
   "source": [
    "2) Montrer que $(u,v)$ est une base du sous-espace vectoriel $F=\\vect((u,v,w,t))$ en établissant qu'elle est libre et qu'elle est génératrice de $F$.\n",
    "\n"
   ]
  },
  {
   "cell_type": "code",
   "execution_count": null,
   "metadata": {},
   "outputs": [],
   "source": [
    "# Votre code CI-DESSOUS\n"
   ]
  },
  {
   "cell_type": "markdown",
   "metadata": {},
   "source": [
    "### Exercice n° 13 : Vérifier qu'une famille est libre\n",
    "\n"
   ]
  },
  {
   "cell_type": "markdown",
   "metadata": {},
   "source": [
    "On donne une famille `fl` et on demande de vérifier qu'elle est libre. On écrira une fonction `est_libre`. On remarquera qu'une famille est libre si et seulement si son rang est égal à la longueur de la famille. Tester avec la famille ci-dessous.\n",
    "\n",
    "Tester avec les vecteurs suivants :\n",
    "\n"
   ]
  },
  {
   "cell_type": "code",
   "execution_count": null,
   "metadata": {},
   "outputs": [],
   "source": [
    "fl=[vector (z) for z in [(2, 1, 2, -4, -4, -4, 1, 5, -5, 5), (-1, 1, 2, 1, 2, 0, -4, 3, 3, 5),\n",
    "(-1, -2, -4, 3, 1, 3, 6, -6, 2, -9), (-2, -6, -11, 7, 3, 9, 13, -21, 2,\n",
    "-26), (-7, 7, 8, 10, 16, 9, -28, 12, 30, 6), (-9, -6, -14, 21, 21, 28,\n",
    "-6, -38, 26, -50)]]"
   ]
  },
  {
   "cell_type": "code",
   "execution_count": null,
   "metadata": {},
   "outputs": [],
   "source": [
    "# Votre code CI-DESSOUS\n"
   ]
  }
 ],
 "metadata": {
  "kernelspec": {
   "display_name": "SageMath 8.6",
   "language": "",
   "name": "sagemath"
  },
  "language_info": {
   "codemirror_mode": {
    "name": "ipython",
    "version": 2
   },
   "file_extension": ".py",
   "mimetype": "text/x-python",
   "name": "python",
   "nbconvert_exporter": "python",
   "pygments_lexer": "ipython2",
   "version": "2.7.15+"
  }
 },
 "nbformat": 4,
 "nbformat_minor": 1
}
